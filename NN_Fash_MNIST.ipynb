{
 "cells": [
  {
   "cell_type": "markdown",
   "id": "0e485dea-393a-46f4-a5f9-21591847969b",
   "metadata": {},
   "source": [
    "# Fashion MNIST classifier with Keras sequential API"
   ]
  },
  {
   "cell_type": "markdown",
   "id": "3a3ed0d4-25b0-4b47-9b56-8da8324e467a",
   "metadata": {},
   "source": [
    "### This code is part of Aurélien Géron Hands on Machine Learning... book with small changes"
   ]
  },
  {
   "cell_type": "markdown",
   "id": "04a60b1e-0311-489c-95c0-5df6d321936c",
   "metadata": {},
   "source": [
    "### Import basic libraries"
   ]
  },
  {
   "cell_type": "code",
   "execution_count": 40,
   "id": "373bfc43-9172-4ecf-9208-2cee7b08ebd1",
   "metadata": {},
   "outputs": [],
   "source": [
    "import tensorflow as tf\n",
    "from tensorflow import keras"
   ]
  },
  {
   "cell_type": "markdown",
   "id": "ba8fc585-b16d-4f5b-b0c3-3b4e50b33343",
   "metadata": {},
   "source": [
    "### Get the dataset from keras.datasets and load into a variable"
   ]
  },
  {
   "cell_type": "code",
   "execution_count": 14,
   "id": "30fb2104-8cd6-461d-8b0f-ffcb73e724f7",
   "metadata": {},
   "outputs": [],
   "source": [
    "fashion_mnist = keras.datasets.fashion_mnist\n",
    "(X_train_full, y_train_full), (X_test, y_test) = fashion_mnist.load_data()"
   ]
  },
  {
   "cell_type": "markdown",
   "id": "3437d350-b0ab-412d-aed7-b4085c183580",
   "metadata": {},
   "source": [
    "### Verify the size of the dataset and it's format"
   ]
  },
  {
   "cell_type": "code",
   "execution_count": 15,
   "id": "b3b77f4e-33b2-4309-af47-022c781c6deb",
   "metadata": {},
   "outputs": [
    {
     "name": "stdout",
     "output_type": "stream",
     "text": [
      "(60000, 28, 28)\n",
      "uint8\n"
     ]
    }
   ],
   "source": [
    "print(X_train_full.shape)\n",
    "print(X_train_full.dtype)"
   ]
  },
  {
   "cell_type": "markdown",
   "id": "a4ef91df-0017-4c47-a1b6-cb5684559a38",
   "metadata": {},
   "source": [
    "### Creating a validation dataset"
   ]
  },
  {
   "cell_type": "code",
   "execution_count": 16,
   "id": "c4613c61-01ef-4909-8b09-a61d8ff7a9cf",
   "metadata": {},
   "outputs": [],
   "source": [
    "X_valid, X_train = X_train_full[:5000] / 255, X_train_full[5000:] / 255\n",
    "y_valid, y_train = y_train_full[:5000], y_train_full[5000:]"
   ]
  },
  {
   "cell_type": "markdown",
   "id": "0ec69d30-00d4-40a2-ba5b-2f0f748d4e8d",
   "metadata": {},
   "source": [
    "### Check the result"
   ]
  },
  {
   "cell_type": "code",
   "execution_count": 17,
   "id": "fcbf3e4b-5b10-4046-abd3-453b3bd3de05",
   "metadata": {},
   "outputs": [
    {
     "name": "stdout",
     "output_type": "stream",
     "text": [
      "For training\n",
      "(55000, 28, 28)\n",
      "(55000,)\n",
      "For testing\n",
      "(10000, 28, 28)\n",
      "(10000,)\n",
      "For validation\n",
      "(5000, 28, 28)\n",
      "(5000,)\n"
     ]
    }
   ],
   "source": [
    "print(\"For training\")\n",
    "print(X_train.shape)\n",
    "print(y_train.shape)\n",
    "print(\"For testing\")\n",
    "print(X_test.shape)\n",
    "print(y_test.shape)\n",
    "print(\"For validation\")\n",
    "print(X_valid.shape)\n",
    "print(y_valid.shape)"
   ]
  },
  {
   "cell_type": "markdown",
   "id": "63946984-729a-4a91-9346-3b1f7f40250e",
   "metadata": {},
   "source": [
    "### Creating the classifier architecture"
   ]
  },
  {
   "cell_type": "code",
   "execution_count": 50,
   "id": "53fa5162-dd41-4a74-af7b-85a8118822ef",
   "metadata": {},
   "outputs": [],
   "source": [
    "from tensorflow.keras.models import Sequential\n",
    "from tensorflow.keras.layers import Dense\n",
    "\n",
    "model = Sequential()\n",
    "#model.add(keras.layers.InputLayer(input_shape=[28,28])) # Possible input layer  \n",
    "model.add(keras.layers.Flatten(input_shape=[28, 28])) # Converts the image into a unidimensional array\n",
    "model.add(keras.layers.Dense(300, activation=\"relu\"))\n",
    "model.add(keras.layers.Dense(100, activation=\"relu\"))\n",
    "model.add(keras.layers.Dense(10, activation=\"softmax\"))"
   ]
  },
  {
   "cell_type": "markdown",
   "id": "a576e48f-9732-482b-995f-53529e41ef3d",
   "metadata": {},
   "source": [
    "### Printing the model summary:"
   ]
  },
  {
   "cell_type": "code",
   "execution_count": 51,
   "id": "59558251-8e40-402d-9f85-2c469eda0d71",
   "metadata": {},
   "outputs": [
    {
     "name": "stdout",
     "output_type": "stream",
     "text": [
      "Model: \"sequential_4\"\n",
      "_________________________________________________________________\n",
      "Layer (type)                 Output Shape              Param #   \n",
      "=================================================================\n",
      "flatten_2 (Flatten)          (None, 784)               0         \n",
      "_________________________________________________________________\n",
      "dense_6 (Dense)              (None, 300)               235500    \n",
      "_________________________________________________________________\n",
      "dense_7 (Dense)              (None, 100)               30100     \n",
      "_________________________________________________________________\n",
      "dense_8 (Dense)              (None, 10)                1010      \n",
      "=================================================================\n",
      "Total params: 266,610\n",
      "Trainable params: 266,610\n",
      "Non-trainable params: 0\n",
      "_________________________________________________________________\n"
     ]
    }
   ],
   "source": [
    "model.summary()"
   ]
  },
  {
   "cell_type": "markdown",
   "id": "28779564-a981-42a9-8312-b8b20ae43142",
   "metadata": {},
   "source": [
    "### Plot of the model"
   ]
  },
  {
   "cell_type": "code",
   "execution_count": 97,
   "id": "5ea216d9-b512-4348-8717-bf6e5930506d",
   "metadata": {},
   "outputs": [
    {
     "name": "stdout",
     "output_type": "stream",
     "text": [
      "Failed to import pydot. You must install pydot and graphviz for `pydotprint` to work.\n"
     ]
    }
   ],
   "source": [
    "import pydot\n",
    "#import graphviz\n",
    "keras.utils.plot_model(model)"
   ]
  },
  {
   "cell_type": "markdown",
   "id": "2905678c-c0a2-406a-b6ed-d95fa6943810",
   "metadata": {},
   "source": [
    "### Visualizing some setail of the layers"
   ]
  },
  {
   "cell_type": "code",
   "execution_count": 71,
   "id": "260c2cfe-014f-4088-9a49-9d43ccb5547c",
   "metadata": {},
   "outputs": [
    {
     "name": "stdout",
     "output_type": "stream",
     "text": [
      "[<tensorflow.python.keras.layers.core.Flatten object at 0x7f550807fd60>, <tensorflow.python.keras.layers.core.Dense object at 0x7f5516b55160>, <tensorflow.python.keras.layers.core.Dense object at 0x7f5516b55430>, <tensorflow.python.keras.layers.core.Dense object at 0x7f550b7014f0>]\n"
     ]
    }
   ],
   "source": [
    "print(model.layers)\n",
    "hidden3 = model.layers[3]"
   ]
  },
  {
   "cell_type": "code",
   "execution_count": 75,
   "id": "c30d473e-1085-47cc-9fac-6824376e9265",
   "metadata": {},
   "outputs": [
    {
     "name": "stdout",
     "output_type": "stream",
     "text": [
      "Weights.shape:\n",
      "(784, 300)\n",
      "Weights values:\n",
      "[[ 0.07233241  0.04318215  0.0585642  ... -0.00528681  0.03156736\n",
      "   0.05152722]\n",
      " [-0.07306733 -0.07187591  0.0390579  ...  0.02374623 -0.03072542\n",
      "   0.06913534]\n",
      " [-0.0172044   0.04622979 -0.01497742 ... -0.07065975  0.06158344\n",
      "  -0.02926923]\n",
      " ...\n",
      " [ 0.02303063  0.01156563 -0.03764686 ... -0.03148396  0.05491033\n",
      "   0.00530365]\n",
      " [ 0.01709151 -0.03672208 -0.01654372 ... -0.04532575 -0.03646802\n",
      "  -0.02221081]\n",
      " [ 0.05101417 -0.06705742 -0.01646557 ...  0.02966785  0.02781228\n",
      "   0.01758777]]\n",
      "Biases.shape:\n",
      "(300,)\n",
      "Weights values:\n",
      "[0. 0. 0. 0. 0. 0. 0. 0. 0. 0. 0. 0. 0. 0. 0. 0. 0. 0. 0. 0. 0. 0. 0. 0.\n",
      " 0. 0. 0. 0. 0. 0. 0. 0. 0. 0. 0. 0. 0. 0. 0. 0. 0. 0. 0. 0. 0. 0. 0. 0.\n",
      " 0. 0. 0. 0. 0. 0. 0. 0. 0. 0. 0. 0. 0. 0. 0. 0. 0. 0. 0. 0. 0. 0. 0. 0.\n",
      " 0. 0. 0. 0. 0. 0. 0. 0. 0. 0. 0. 0. 0. 0. 0. 0. 0. 0. 0. 0. 0. 0. 0. 0.\n",
      " 0. 0. 0. 0. 0. 0. 0. 0. 0. 0. 0. 0. 0. 0. 0. 0. 0. 0. 0. 0. 0. 0. 0. 0.\n",
      " 0. 0. 0. 0. 0. 0. 0. 0. 0. 0. 0. 0. 0. 0. 0. 0. 0. 0. 0. 0. 0. 0. 0. 0.\n",
      " 0. 0. 0. 0. 0. 0. 0. 0. 0. 0. 0. 0. 0. 0. 0. 0. 0. 0. 0. 0. 0. 0. 0. 0.\n",
      " 0. 0. 0. 0. 0. 0. 0. 0. 0. 0. 0. 0. 0. 0. 0. 0. 0. 0. 0. 0. 0. 0. 0. 0.\n",
      " 0. 0. 0. 0. 0. 0. 0. 0. 0. 0. 0. 0. 0. 0. 0. 0. 0. 0. 0. 0. 0. 0. 0. 0.\n",
      " 0. 0. 0. 0. 0. 0. 0. 0. 0. 0. 0. 0. 0. 0. 0. 0. 0. 0. 0. 0. 0. 0. 0. 0.\n",
      " 0. 0. 0. 0. 0. 0. 0. 0. 0. 0. 0. 0. 0. 0. 0. 0. 0. 0. 0. 0. 0. 0. 0. 0.\n",
      " 0. 0. 0. 0. 0. 0. 0. 0. 0. 0. 0. 0. 0. 0. 0. 0. 0. 0. 0. 0. 0. 0. 0. 0.\n",
      " 0. 0. 0. 0. 0. 0. 0. 0. 0. 0. 0. 0.]\n"
     ]
    }
   ],
   "source": [
    "weights, biases = hidden1.get_weights() # Note the random weights to break the simetry and help the backpropagation\n",
    "print(\"Weights.shape:\")\n",
    "print(weights.shape)\n",
    "print(\"Weights values:\")\n",
    "print(weights)\n",
    "print(\"Biases.shape:\")\n",
    "print(biases.shape)\n",
    "print(\"Weights values:\")\n",
    "print(biases)"
   ]
  },
  {
   "cell_type": "markdown",
   "id": "60be0994-28db-45da-8932-bc163ba30cff",
   "metadata": {},
   "source": [
    "### Compiling the model"
   ]
  },
  {
   "cell_type": "code",
   "execution_count": 76,
   "id": "90aab312-ca9d-40d7-be1b-c57f2fd9fa35",
   "metadata": {},
   "outputs": [],
   "source": [
    "model.compile(loss=\"sparse_categorical_crossentropy\",\n",
    "             optimizer=\"sgd\", # sgd=stochastic gradient descent\n",
    "             metrics=[\"accuracy\"])"
   ]
  },
  {
   "cell_type": "markdown",
   "id": "204afc1d-ed66-4a7e-bfd0-37df457df2f5",
   "metadata": {},
   "source": [
    "### Training the model"
   ]
  },
  {
   "cell_type": "code",
   "execution_count": 78,
   "id": "053b9047-7f2d-424b-845b-96fedd39e1be",
   "metadata": {},
   "outputs": [
    {
     "name": "stdout",
     "output_type": "stream",
     "text": [
      "Epoch 1/30\n",
      "1719/1719 [==============================] - 3s 2ms/step - loss: 0.7297 - accuracy: 0.7590 - val_loss: 0.5084 - val_accuracy: 0.8292\n",
      "Epoch 2/30\n",
      "1719/1719 [==============================] - 3s 2ms/step - loss: 0.4940 - accuracy: 0.8275 - val_loss: 0.4478 - val_accuracy: 0.8432\n",
      "Epoch 3/30\n",
      "1719/1719 [==============================] - 3s 2ms/step - loss: 0.4477 - accuracy: 0.8432 - val_loss: 0.4386 - val_accuracy: 0.8488\n",
      "Epoch 4/30\n",
      "1719/1719 [==============================] - 3s 2ms/step - loss: 0.4188 - accuracy: 0.8523 - val_loss: 0.4214 - val_accuracy: 0.8560\n",
      "Epoch 5/30\n",
      "1719/1719 [==============================] - 3s 2ms/step - loss: 0.3972 - accuracy: 0.8606 - val_loss: 0.3826 - val_accuracy: 0.8652\n",
      "Epoch 6/30\n",
      "1719/1719 [==============================] - 3s 2ms/step - loss: 0.3808 - accuracy: 0.8650 - val_loss: 0.3798 - val_accuracy: 0.8670\n",
      "Epoch 7/30\n",
      "1719/1719 [==============================] - 3s 2ms/step - loss: 0.3668 - accuracy: 0.8703 - val_loss: 0.3824 - val_accuracy: 0.8662\n",
      "Epoch 8/30\n",
      "1719/1719 [==============================] - 3s 2ms/step - loss: 0.3547 - accuracy: 0.8751 - val_loss: 0.3500 - val_accuracy: 0.8768\n",
      "Epoch 9/30\n",
      "1719/1719 [==============================] - 3s 2ms/step - loss: 0.3440 - accuracy: 0.8784 - val_loss: 0.3539 - val_accuracy: 0.8756\n",
      "Epoch 10/30\n",
      "1719/1719 [==============================] - 3s 2ms/step - loss: 0.3341 - accuracy: 0.8811 - val_loss: 0.3628 - val_accuracy: 0.8680\n",
      "Epoch 11/30\n",
      "1719/1719 [==============================] - 3s 2ms/step - loss: 0.3260 - accuracy: 0.8835 - val_loss: 0.3352 - val_accuracy: 0.8794\n",
      "Epoch 12/30\n",
      "1719/1719 [==============================] - 3s 2ms/step - loss: 0.3170 - accuracy: 0.8868 - val_loss: 0.3621 - val_accuracy: 0.8690\n",
      "Epoch 13/30\n",
      "1719/1719 [==============================] - 3s 2ms/step - loss: 0.3098 - accuracy: 0.8892 - val_loss: 0.3469 - val_accuracy: 0.8770\n",
      "Epoch 14/30\n",
      "1719/1719 [==============================] - 3s 2ms/step - loss: 0.3033 - accuracy: 0.8912 - val_loss: 0.3337 - val_accuracy: 0.8786\n",
      "Epoch 15/30\n",
      "1719/1719 [==============================] - 3s 2ms/step - loss: 0.2969 - accuracy: 0.8931 - val_loss: 0.3348 - val_accuracy: 0.8816\n",
      "Epoch 16/30\n",
      "1719/1719 [==============================] - 3s 2ms/step - loss: 0.2906 - accuracy: 0.8953 - val_loss: 0.3394 - val_accuracy: 0.8812\n",
      "Epoch 17/30\n",
      "1719/1719 [==============================] - 3s 2ms/step - loss: 0.2840 - accuracy: 0.8974 - val_loss: 0.3151 - val_accuracy: 0.8886\n",
      "Epoch 18/30\n",
      "1719/1719 [==============================] - 3s 2ms/step - loss: 0.2792 - accuracy: 0.8996 - val_loss: 0.3295 - val_accuracy: 0.8782\n",
      "Epoch 19/30\n",
      "1719/1719 [==============================] - 3s 2ms/step - loss: 0.2737 - accuracy: 0.9014 - val_loss: 0.3307 - val_accuracy: 0.8806\n",
      "Epoch 20/30\n",
      "1719/1719 [==============================] - 3s 2ms/step - loss: 0.2688 - accuracy: 0.9031 - val_loss: 0.3236 - val_accuracy: 0.8796\n",
      "Epoch 21/30\n",
      "1719/1719 [==============================] - 3s 2ms/step - loss: 0.2638 - accuracy: 0.9047 - val_loss: 0.3082 - val_accuracy: 0.8902\n",
      "Epoch 22/30\n",
      "1719/1719 [==============================] - 3s 2ms/step - loss: 0.2595 - accuracy: 0.9069 - val_loss: 0.3098 - val_accuracy: 0.8874\n",
      "Epoch 23/30\n",
      "1719/1719 [==============================] - 3s 2ms/step - loss: 0.2554 - accuracy: 0.9081 - val_loss: 0.3020 - val_accuracy: 0.8916\n",
      "Epoch 24/30\n",
      "1719/1719 [==============================] - 3s 2ms/step - loss: 0.2506 - accuracy: 0.9104 - val_loss: 0.3123 - val_accuracy: 0.8866\n",
      "Epoch 25/30\n",
      "1719/1719 [==============================] - 4s 2ms/step - loss: 0.2471 - accuracy: 0.9103 - val_loss: 0.3062 - val_accuracy: 0.8864\n",
      "Epoch 26/30\n",
      "1719/1719 [==============================] - 3s 2ms/step - loss: 0.2416 - accuracy: 0.9126 - val_loss: 0.3233 - val_accuracy: 0.8792\n",
      "Epoch 27/30\n",
      "1719/1719 [==============================] - 3s 2ms/step - loss: 0.2381 - accuracy: 0.9138 - val_loss: 0.2985 - val_accuracy: 0.8958\n",
      "Epoch 28/30\n",
      "1719/1719 [==============================] - 3s 2ms/step - loss: 0.2353 - accuracy: 0.9158 - val_loss: 0.3139 - val_accuracy: 0.8896\n",
      "Epoch 29/30\n",
      "1719/1719 [==============================] - 3s 2ms/step - loss: 0.2313 - accuracy: 0.9162 - val_loss: 0.3018 - val_accuracy: 0.8910\n",
      "Epoch 30/30\n",
      "1719/1719 [==============================] - 3s 2ms/step - loss: 0.2265 - accuracy: 0.9181 - val_loss: 0.2928 - val_accuracy: 0.8950\n"
     ]
    }
   ],
   "source": [
    "history = model.fit(X_train, y_train, epochs=30,\n",
    "                   validation_data=(X_valid, y_valid))"
   ]
  },
  {
   "cell_type": "markdown",
   "id": "1a929234-7d06-4420-aac7-0414ff4a74a8",
   "metadata": {},
   "source": [
    "### Visualizing the learning curves"
   ]
  },
  {
   "cell_type": "code",
   "execution_count": 83,
   "id": "a1ef7f18-a3eb-46ac-8894-5dcbceb0461c",
   "metadata": {},
   "outputs": [
    {
     "data": {
      "image/png": "[encoded data removed]",
      "text/plain": [
       "<Figure size 864x576 with 1 Axes>"
      ]
     },
     "metadata": {
      "needs_background": "light"
     },
     "output_type": "display_data"
    }
   ],
   "source": [
    "import pandas as pd\n",
    "import matplotlib.pyplot as plt\n",
    "\n",
    "pd.DataFrame(history.history).plot(figsize=(12,8))\n",
    "plt.grid(True)\n",
    "plt.gca().set_ylim(0, 1)\n",
    "plt.show()"
   ]
  },
  {
   "cell_type": "markdown",
   "id": "9f23f840-359f-4309-8e09-183277cdb468",
   "metadata": {},
   "source": [
    "### Evaluate the model"
   ]
  },
  {
   "cell_type": "code",
   "execution_count": 86,
   "id": "68812caa-0514-4cff-84c4-a3c94d696491",
   "metadata": {},
   "outputs": [
    {
     "name": "stdout",
     "output_type": "stream",
     "text": [
      "313/313 [==============================] - 0s 2ms/step - loss: 62.0885 - accuracy: 0.8504\n"
     ]
    },
    {
     "data": {
      "text/plain": [
       "[62.08845520019531, 0.8503999710083008]"
      ]
     },
     "execution_count": 86,
     "metadata": {},
     "output_type": "execute_result"
    }
   ],
   "source": [
    "model.evaluate(X_test, y_test)"
   ]
  },
  {
   "cell_type": "markdown",
   "id": "727ef4f3-0424-4c31-916d-746c4b459086",
   "metadata": {},
   "source": [
    "### Using the model to make new predictions"
   ]
  },
  {
   "cell_type": "code",
   "execution_count": 101,
   "id": "ecd59401-1d5a-43e3-a8a1-1d4bb6125a8d",
   "metadata": {},
   "outputs": [
    {
     "data": {
      "text/plain": [
       "array([[0., 0., 0., 0., 0., 0., 0., 0., 0., 1.],\n",
       "       [0., 0., 1., 0., 0., 0., 0., 0., 0., 0.],\n",
       "       [0., 1., 0., 0., 0., 0., 0., 0., 0., 0.]], dtype=float32)"
      ]
     },
     "execution_count": 101,
     "metadata": {},
     "output_type": "execute_result"
    }
   ],
   "source": [
    "X_new = X_test[:3]\n",
    "y_proba = model.predict(X_new)\n",
    "y_proba.round(2)"
   ]
  }
 ],
 "metadata": {
  "kernelspec": {
   "display_name": "Python 3",
   "language": "python",
   "name": "python3"
  },
  "language_info": {
   "codemirror_mode": {
    "name": "ipython",
    "version": 3
   },
   "file_extension": ".py",
   "mimetype": "text/x-python",
   "name": "python",
   "nbconvert_exporter": "python",
   "pygments_lexer": "ipython3",
   "version": "3.8.10"
  }
 },
 "nbformat": 4,
 "nbformat_minor": 5
}
